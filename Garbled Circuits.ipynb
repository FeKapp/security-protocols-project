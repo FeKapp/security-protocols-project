{
 "cells": [
  {
   "cell_type": "markdown",
   "id": "f5c76e3f2830e54a",
   "metadata": {},
   "source": [
    "# Garbled Circuits"
   ]
  },
  {
   "cell_type": "code",
   "id": "372d277c8e1c00f1",
   "metadata": {
    "jupyter": {
     "is_executing": true
    }
   },
   "source": [
    "import threading\n",
    "from pysecurecircuit.circuit import Circuit\n",
    "from pysecurecircuit.server import Server\n",
    "\n",
    "def start_server():\n",
    "    # Create circuit with 2 parties\n",
    "    circuit = Circuit(name=\"Millionaires' Problem\", num_parties=2)\n",
    "\n",
    "    # Define input variables\n",
    "    alice_wealth = circuit.newSecureInteger()\n",
    "    bob_wealth = circuit.newSecureInteger()\n",
    "\n",
    "    # Circuit logic\n",
    "    alice_richer_than_bob = alice_wealth > bob_wealth\n",
    "\n",
    "    # Assign input variables to Alice and Bob\n",
    "    circuit.assign_to_party(party_idx=0, name=\"Wealth (Alice)\", variable=alice_wealth)\n",
    "    circuit.assign_to_party(party_idx=1, name=\"Wealth (Bob)\", variable=bob_wealth)\n",
    "\n",
    "    # Set circuit's output\n",
    "    circuit.set_output(name=\"Alice richer than Bob\", variable=alice_richer_than_bob)\n",
    "\n",
    "    # Start server\n",
    "    Server(circuit).start(host='0.0.0.0', port=5000)\n",
    "\n",
    "# Start the server in a background thread\n",
    "server_thread = threading.Thread(target=start_server)\n",
    "server_thread.start()\n"
   ],
   "outputs": [],
   "execution_count": null
  }
 ],
 "metadata": {
  "kernelspec": {
   "display_name": "Python 3 (ipykernel)",
   "language": "python",
   "name": "python3"
  },
  "language_info": {
   "codemirror_mode": {
    "name": "ipython",
    "version": 3
   },
   "file_extension": ".py",
   "mimetype": "text/x-python",
   "name": "python",
   "nbconvert_exporter": "python",
   "pygments_lexer": "ipython3",
   "version": "3.9.6"
  }
 },
 "nbformat": 4,
 "nbformat_minor": 5
}
